{
 "cells": [
  {
   "cell_type": "markdown",
   "id": "bfe3f300",
   "metadata": {},
   "source": [
    "# Data Preparation\n",
    "In this exercise we will work with the IMDB sentiment dataset. This dataset contains movie reviews, each with a positive or negative sentiment (quantized by 1 for positive and 0 for negative). "
   ]
  },
  {
   "cell_type": "markdown",
   "id": "965aeeb6",
   "metadata": {},
   "source": [
    "Reading and preprocessing the data\n",
    "To import the tsv file, it is recommended to use the pandas package. The provided file can be imported as follows"
   ]
  },
  {
   "cell_type": "code",
   "execution_count": 1,
   "id": "c96d3d73",
   "metadata": {},
   "outputs": [],
   "source": [
    "import numpy as np\n",
    "import pandas as pd\n",
    "import tensorflow as tf\n",
    "from tensorflow import keras\n",
    "from keras.datasets import imdb"
   ]
  },
  {
   "cell_type": "markdown",
   "id": "7a63c266",
   "metadata": {},
   "source": [
    "Decompress data"
   ]
  },
  {
   "cell_type": "code",
   "execution_count": 2,
   "id": "a4ba1ff8",
   "metadata": {},
   "outputs": [
    {
     "data": {
      "text/plain": [
       "<bound method ZipFile.close of <zipfile.ZipFile filename='./labeledTrainData.zip' mode='r'>>"
      ]
     },
     "execution_count": 2,
     "metadata": {},
     "output_type": "execute_result"
    }
   ],
   "source": [
    "import zipfile\n",
    "import os\n",
    "\n",
    "path = os.getcwd()\n",
    "f = zipfile.ZipFile(\"./labeledTestData.zip\",'r') \n",
    "for file in f.namelist():\n",
    "    f.extract(file,path)\n",
    "f.close\n",
    "\n",
    "f = zipfile.ZipFile(\"./labeledTrainData.zip\",'r') \n",
    "for file in f.namelist():\n",
    "    f.extract(file,path)\n",
    "f.close"
   ]
  },
  {
   "cell_type": "code",
   "execution_count": 3,
   "id": "c097d7ce",
   "metadata": {},
   "outputs": [],
   "source": [
    "# load data as pandas dataframe\n",
    "train = pd.read_csv('labeledTrainData.tsv', \n",
    "                    header=0,\n",
    "                    delimiter=\"\\t\", \n",
    "                    quoting=3 )\n",
    "test = pd.read_csv('labeledTestData.tsv',\n",
    "                   header=0,\n",
    "                   delimiter=\"\\t\",\n",
    "                   quoting=3 )"
   ]
  },
  {
   "cell_type": "markdown",
   "id": "f6f37eea",
   "metadata": {},
   "source": [
    "Print the first 10 samples, which contain id, sentiment and review."
   ]
  },
  {
   "cell_type": "markdown",
   "id": "39f8127a",
   "metadata": {},
   "source": [
    "The text strings contain HTML tags, which have to be removed. Then print the first two reviews without HTML tags."
   ]
  },
  {
   "cell_type": "code",
   "execution_count": 4,
   "id": "bd8dd671",
   "metadata": {},
   "outputs": [
    {
     "name": "stdout",
     "output_type": "stream",
     "text": [
      "\"With all this stuff going down at the moment with MJ i've started listening to his music, watching the odd documentary here and there, watched The Wiz and watched Moonwalker again. Maybe i just want to get a certain insight into this guy who i thought was really cool in the eighties just to maybe make up my mind whether he is guilty or innocent. Moonwalker is part biography, part feature film which i remember going to see at the cinema when it was originally released. Some of it has subtle messages about MJ's feeling towards the press and also the obvious message of drugs are bad m'kay.Visually impressive but of course this is all about Michael Jackson so unless you remotely like MJ in anyway then you are going to hate this and find it boring. Some may call MJ an egotist for consenting to the making of this movie BUT MJ and most of his fans would say that he made it for the fans which if true is really nice of him.The actual feature film bit when it finally starts is only on for 20 minutes or so excluding the Smooth Criminal sequence and Joe Pesci is convincing as a psychopathic all powerful drug lord. Why he wants MJ dead so bad is beyond me. Because MJ overheard his plans? Nah, Joe Pesci's character ranted that he wanted people to know it is he who is supplying drugs etc so i dunno, maybe he just hates MJ's music.Lots of cool things in this like MJ turning into a car and a robot and the whole Speed Demon sequence. Also, the director must have had the patience of a saint when it came to filming the kiddy Bad sequence as usually directors hate working with one kid let alone a whole bunch of them performing a complex dance scene.Bottom line, this movie is for people who like MJ on one level or another (which i think is most people). If not, then stay away. It does try and give off a wholesome message and ironically MJ's bestest buddy in this movie is a girl! Michael Jackson is truly one of the most talented people ever to grace this planet but is he guilty? Well, with all the attention i've gave this subject....hmmm well i don't know because people can be different behind closed doors, i know this for a fact. He is either an extremely nice but stupid guy or one of the most sickest liars. I hope he is not the latter.\"\n"
     ]
    }
   ],
   "source": [
    "from bs4 import BeautifulSoup\n",
    "\n",
    "example1 = BeautifulSoup(train['review'][0], 'lxml').get_text()\n",
    "print(example1)"
   ]
  },
  {
   "cell_type": "code",
   "execution_count": 5,
   "id": "e67e5b9b",
   "metadata": {},
   "outputs": [
    {
     "name": "stdout",
     "output_type": "stream",
     "text": [
      "\"The film starts with a manager (Nicholas Bell) giving welcome investors (Robert Carradine) to Primal Park . A secret project mutating a primal animal using fossilized DNA, like ¨Jurassik Park¨, and some scientists resurrect one of nature's most fearsome predators, the Sabretooth tiger or Smilodon . Scientific ambition turns deadly, however, and when the high voltage fence is opened the creature escape and begins savagely stalking its prey - the human visitors , tourists and scientific.Meanwhile some youngsters enter in the restricted area of the security center and are attacked by a pack of large pre-historical animals which are deadlier and bigger . In addition , a security agent (Stacy Haiduk) and her mate (Brian Wimmer) fight hardly against the carnivorous Smilodons. The Sabretooths, themselves , of course, are the real star stars and they are astounding terrifyingly though not convincing. The giant animals savagely are stalking its prey and the group run afoul and fight against one nature's most fearsome predators. Furthermore a third Sabretooth more dangerous and slow stalks its victims.The movie delivers the goods with lots of blood and gore as beheading, hair-raising chills,full of scares when the Sabretooths appear with mediocre special effects.The story provides exciting and stirring entertainment but it results to be quite boring .The giant animals are majority made by computer generator and seem totally lousy .Middling performances though the players reacting appropriately to becoming food.Actors give vigorously physical performances dodging the beasts ,running,bound and leaps or dangling over walls . And it packs a ridiculous final deadly scene. No for small kids by realistic,gory and violent attack scenes . Other films about Sabretooths or Smilodon are the following : ¨Sabretooth(2002)¨by James R Hickox with Vanessa Angel, David Keith and John Rhys Davies and the much better ¨10.000 BC(2006)¨ by Roland Emmerich with with Steven Strait, Cliff Curtis and Camilla Belle. This motion picture filled with bloody moments is badly directed by George Miller and with no originality because takes too many elements from previous films. Miller is an Australian director usually working for television (Tidal wave, Journey to the center of the earth, and many others) and occasionally for cinema ( The man from Snowy river, Zeus and Roxanne,Robinson Crusoe ). Rating : Below average, bottom of barrel.\"\n"
     ]
    }
   ],
   "source": [
    "example2 = BeautifulSoup(train['review'][2], 'lxml').get_text()\n",
    "print(example2)"
   ]
  },
  {
   "cell_type": "markdown",
   "id": "e6349380",
   "metadata": {},
   "source": [
    "Furthermore, remove punctuation, numbers and all (common) words by using the regular (re) package and converts to lower case."
   ]
  },
  {
   "cell_type": "code",
   "execution_count": 6,
   "id": "d2190a10",
   "metadata": {},
   "outputs": [
    {
     "name": "stdout",
     "output_type": "stream",
     "text": [
      " with all this stuff going down at the moment with mj i ve started listening to his music  watching the odd documentary here and there  watched the wiz and watched moonwalker again  maybe i just want to get a certain insight into this guy who i thought was really cool in the eighties just to maybe make up my mind whether he is guilty or innocent  moonwalker is part biography  part feature film which i remember going to see at the cinema when it was originally released  some of it has subtle messages about mj s feeling towards the press and also the obvious message of drugs are bad m kay visually impressive but of course this is all about michael jackson so unless you remotely like mj in anyway then you are going to hate this and find it boring  some may call mj an egotist for consenting to the making of this movie but mj and most of his fans would say that he made it for the fans which if true is really nice of him the actual feature film bit when it finally starts is only on for    minutes or so excluding the smooth criminal sequence and joe pesci is convincing as a psychopathic all powerful drug lord  why he wants mj dead so bad is beyond me  because mj overheard his plans  nah  joe pesci s character ranted that he wanted people to know it is he who is supplying drugs etc so i dunno  maybe he just hates mj s music lots of cool things in this like mj turning into a car and a robot and the whole speed demon sequence  also  the director must have had the patience of a saint when it came to filming the kiddy bad sequence as usually directors hate working with one kid let alone a whole bunch of them performing a complex dance scene bottom line  this movie is for people who like mj on one level or another  which i think is most people   if not  then stay away  it does try and give off a wholesome message and ironically mj s bestest buddy in this movie is a girl  michael jackson is truly one of the most talented people ever to grace this planet but is he guilty  well  with all the attention i ve gave this subject    hmmm well i don t know because people can be different behind closed doors  i know this for a fact  he is either an extremely nice but stupid guy or one of the most sickest liars  i hope he is not the latter  \n"
     ]
    }
   ],
   "source": [
    "import re\n",
    "# Use regular expressions to do a find-and-replace\n",
    "lowerletter_only = re.sub('[^a-zA-Z]',                       # The pattern to search for charaters not 'a' to 'z' nor 'A' to 'Z'\n",
    "                     ' ',                               # The pattern to replace with ' '\n",
    "                     example1 ).lower()                 # The text to search example1 and converts to lower case\n",
    "print(lowerletter_only)"
   ]
  },
  {
   "cell_type": "markdown",
   "id": "8c3e957b",
   "metadata": {},
   "source": [
    "To split the strings into individual words. "
   ]
  },
  {
   "cell_type": "code",
   "execution_count": 7,
   "id": "51b7666d",
   "metadata": {},
   "outputs": [
    {
     "name": "stdout",
     "output_type": "stream",
     "text": [
      "['with', 'all', 'this', 'stuff', 'going', 'down', 'at', 'the', 'moment', 'with', 'mj', 'i', 've', 'started', 'listening', 'to', 'his', 'music', 'watching', 'the', 'odd', 'documentary', 'here', 'and', 'there', 'watched', 'the', 'wiz', 'and', 'watched', 'moonwalker', 'again', 'maybe', 'i', 'just', 'want', 'to', 'get', 'a', 'certain', 'insight', 'into', 'this', 'guy', 'who', 'i', 'thought', 'was', 'really', 'cool', 'in', 'the', 'eighties', 'just', 'to', 'maybe', 'make', 'up', 'my', 'mind', 'whether', 'he', 'is', 'guilty', 'or', 'innocent', 'moonwalker', 'is', 'part', 'biography', 'part', 'feature', 'film', 'which', 'i', 'remember', 'going', 'to', 'see', 'at', 'the', 'cinema', 'when', 'it', 'was', 'originally', 'released', 'some', 'of', 'it', 'has', 'subtle', 'messages', 'about', 'mj', 's', 'feeling', 'towards', 'the', 'press', 'and', 'also', 'the', 'obvious', 'message', 'of', 'drugs', 'are', 'bad', 'm', 'kay', 'visually', 'impressive', 'but', 'of', 'course', 'this', 'is', 'all', 'about', 'michael', 'jackson', 'so', 'unless', 'you', 'remotely', 'like', 'mj', 'in', 'anyway', 'then', 'you', 'are', 'going', 'to', 'hate', 'this', 'and', 'find', 'it', 'boring', 'some', 'may', 'call', 'mj', 'an', 'egotist', 'for', 'consenting', 'to', 'the', 'making', 'of', 'this', 'movie', 'but', 'mj', 'and', 'most', 'of', 'his', 'fans', 'would', 'say', 'that', 'he', 'made', 'it', 'for', 'the', 'fans', 'which', 'if', 'true', 'is', 'really', 'nice', 'of', 'him', 'the', 'actual', 'feature', 'film', 'bit', 'when', 'it', 'finally', 'starts', 'is', 'only', 'on', 'for', 'minutes', 'or', 'so', 'excluding', 'the', 'smooth', 'criminal', 'sequence', 'and', 'joe', 'pesci', 'is', 'convincing', 'as', 'a', 'psychopathic', 'all', 'powerful', 'drug', 'lord', 'why', 'he', 'wants', 'mj', 'dead', 'so', 'bad', 'is', 'beyond', 'me', 'because', 'mj', 'overheard', 'his', 'plans', 'nah', 'joe', 'pesci', 's', 'character', 'ranted', 'that', 'he', 'wanted', 'people', 'to', 'know', 'it', 'is', 'he', 'who', 'is', 'supplying', 'drugs', 'etc', 'so', 'i', 'dunno', 'maybe', 'he', 'just', 'hates', 'mj', 's', 'music', 'lots', 'of', 'cool', 'things', 'in', 'this', 'like', 'mj', 'turning', 'into', 'a', 'car', 'and', 'a', 'robot', 'and', 'the', 'whole', 'speed', 'demon', 'sequence', 'also', 'the', 'director', 'must', 'have', 'had', 'the', 'patience', 'of', 'a', 'saint', 'when', 'it', 'came', 'to', 'filming', 'the', 'kiddy', 'bad', 'sequence', 'as', 'usually', 'directors', 'hate', 'working', 'with', 'one', 'kid', 'let', 'alone', 'a', 'whole', 'bunch', 'of', 'them', 'performing', 'a', 'complex', 'dance', 'scene', 'bottom', 'line', 'this', 'movie', 'is', 'for', 'people', 'who', 'like', 'mj', 'on', 'one', 'level', 'or', 'another', 'which', 'i', 'think', 'is', 'most', 'people', 'if', 'not', 'then', 'stay', 'away', 'it', 'does', 'try', 'and', 'give', 'off', 'a', 'wholesome', 'message', 'and', 'ironically', 'mj', 's', 'bestest', 'buddy', 'in', 'this', 'movie', 'is', 'a', 'girl', 'michael', 'jackson', 'is', 'truly', 'one', 'of', 'the', 'most', 'talented', 'people', 'ever', 'to', 'grace', 'this', 'planet', 'but', 'is', 'he', 'guilty', 'well', 'with', 'all', 'the', 'attention', 'i', 've', 'gave', 'this', 'subject', 'hmmm', 'well', 'i', 'don', 't', 'know', 'because', 'people', 'can', 'be', 'different', 'behind', 'closed', 'doors', 'i', 'know', 'this', 'for', 'a', 'fact', 'he', 'is', 'either', 'an', 'extremely', 'nice', 'but', 'stupid', 'guy', 'or', 'one', 'of', 'the', 'most', 'sickest', 'liars', 'i', 'hope', 'he', 'is', 'not', 'the', 'latter']\n"
     ]
    }
   ],
   "source": [
    "words = lowerletter_only.split()\n",
    "print(words)"
   ]
  },
  {
   "cell_type": "markdown",
   "id": "8830a4fd",
   "metadata": {},
   "source": [
    "Now, we'd like to remove common words that do not carry much meaning, such as 'a', 'the' or 'is'. These are often referred to as stop words.\n",
    "A list of stop words can be obtained with the NLTK package:"
   ]
  },
  {
   "cell_type": "code",
   "execution_count": 8,
   "id": "85a9071a",
   "metadata": {},
   "outputs": [
    {
     "name": "stdout",
     "output_type": "stream",
     "text": [
      "['i', 'me', 'my', 'myself', 'we', 'our', 'ours', 'ourselves', 'you', \"you're\", \"you've\", \"you'll\", \"you'd\", 'your', 'yours', 'yourself', 'yourselves', 'he', 'him', 'his', 'himself', 'she', \"she's\", 'her', 'hers', 'herself', 'it', \"it's\", 'its', 'itself', 'they', 'them', 'their', 'theirs', 'themselves', 'what', 'which', 'who', 'whom', 'this', 'that', \"that'll\", 'these', 'those', 'am', 'is', 'are', 'was', 'were', 'be', 'been', 'being', 'have', 'has', 'had', 'having', 'do', 'does', 'did', 'doing', 'a', 'an', 'the', 'and', 'but', 'if', 'or', 'because', 'as', 'until', 'while', 'of', 'at', 'by', 'for', 'with', 'about', 'against', 'between', 'into', 'through', 'during', 'before', 'after', 'above', 'below', 'to', 'from', 'up', 'down', 'in', 'out', 'on', 'off', 'over', 'under', 'again', 'further', 'then', 'once', 'here', 'there', 'when', 'where', 'why', 'how', 'all', 'any', 'both', 'each', 'few', 'more', 'most', 'other', 'some', 'such', 'no', 'nor', 'not', 'only', 'own', 'same', 'so', 'than', 'too', 'very', 's', 't', 'can', 'will', 'just', 'don', \"don't\", 'should', \"should've\", 'now', 'd', 'll', 'm', 'o', 're', 've', 'y', 'ain', 'aren', \"aren't\", 'couldn', \"couldn't\", 'didn', \"didn't\", 'doesn', \"doesn't\", 'hadn', \"hadn't\", 'hasn', \"hasn't\", 'haven', \"haven't\", 'isn', \"isn't\", 'ma', 'mightn', \"mightn't\", 'mustn', \"mustn't\", 'needn', \"needn't\", 'shan', \"shan't\", 'shouldn', \"shouldn't\", 'wasn', \"wasn't\", 'weren', \"weren't\", 'won', \"won't\", 'wouldn', \"wouldn't\"]\n"
     ]
    },
    {
     "name": "stderr",
     "output_type": "stream",
     "text": [
      "[nltk_data] Downloading package stopwords to\n",
      "[nltk_data]     C:\\Users\\96389\\AppData\\Roaming\\nltk_data...\n",
      "[nltk_data]   Package stopwords is already up-to-date!\n"
     ]
    }
   ],
   "source": [
    "import nltk \n",
    "nltk.download('stopwords')         # Download text data sets, including stop words\n",
    "from nltk.corpus import stopwords   # Import the stop word list\n",
    "stops = stopwords.words('english')\n",
    "print(stops)"
   ]
  },
  {
   "cell_type": "markdown",
   "id": "a2029674",
   "metadata": {},
   "source": [
    "# Write a function review_prepro \n",
    "which includes the above steps and return a preprocessed review."
   ]
  },
  {
   "cell_type": "code",
   "execution_count": 9,
   "id": "26565194",
   "metadata": {},
   "outputs": [],
   "source": [
    "# function for preprocessing the data\n",
    "def review_prepro (data):\n",
    "\n",
    "    review_text = BeautifulSoup(data, 'lxml').get_text()\n",
    "    lowerletters_only = re.sub('[^a-zA-Z]', ' ', review_text )\n",
    "    all_words = lowerletters_only.lower().split()\n",
    "    en_stops = set(stopwords.words('english'))\n",
    "    filtered_review = []\n",
    "    \n",
    "    for word in all_words: \n",
    "        if word not in en_stops:\n",
    "            filtered_review.append(word)\n",
    "    \n",
    "    return ' '.join(filtered_review)"
   ]
  },
  {
   "cell_type": "code",
   "execution_count": 10,
   "id": "7e91527a",
   "metadata": {},
   "outputs": [
    {
     "name": "stderr",
     "output_type": "stream",
     "text": [
      "D:\\Python\\lib\\site-packages\\bs4\\__init__.py:435: MarkupResemblesLocatorWarning: The input looks more like a filename than markup. You may want to open this file and pass the filehandle into Beautiful Soup.\n",
      "  warnings.warn(\n"
     ]
    }
   ],
   "source": [
    "# preprocess train data\n",
    "num_reviews = train['review'].size\n",
    "filtered_train_reviews = []\n",
    "\n",
    "for i in range(num_reviews):\n",
    "    filtered_train_reviews.append(review_prepro(train['review'][i]))\n",
    "\n"
   ]
  },
  {
   "cell_type": "markdown",
   "id": "aad28d1a",
   "metadata": {},
   "source": [
    "# Creating Features from a Bag of Words"
   ]
  },
  {
   "cell_type": "markdown",
   "id": "d7cf9f92",
   "metadata": {},
   "source": [
    "For generating a bag of words model, we will use the scikit-learn packpage. Use the following code"
   ]
  },
  {
   "cell_type": "code",
   "execution_count": 11,
   "id": "47c27f7f",
   "metadata": {},
   "outputs": [],
   "source": [
    "from sklearn.feature_extraction.text import CountVectorizer\n",
    "\n",
    "# define the vectorizer\n",
    "vectorizer = CountVectorizer(analyzer = 'word', \n",
    "                             tokenizer = None,  \n",
    "                             preprocessor = None,\n",
    "                             stop_words = None,\n",
    "                             max_features = 50 )\n",
    "\n",
    "#fit the vectorizer to the data\n",
    "train_data_features = vectorizer.fit_transform(filtered_train_reviews)\n",
    "# convert to numpy array\n",
    "train_data_features = train_data_features.toarray()\n"
   ]
  },
  {
   "cell_type": "markdown",
   "id": "baa7f2c9",
   "metadata": {},
   "source": [
    "# Black box classifier"
   ]
  },
  {
   "cell_type": "markdown",
   "id": "22007dd4",
   "metadata": {},
   "source": [
    "Use a prebuilt classifier and train it on the traning data, then evaluate the learned classifier on the test data"
   ]
  },
  {
   "cell_type": "code",
   "execution_count": 12,
   "id": "d02cfa8c",
   "metadata": {},
   "outputs": [],
   "source": [
    "num_test_reviews = test['review'].size\n",
    "filtered_test_reviews = []\n",
    "for i in range(num_test_reviews):\n",
    "    filtered_test_reviews.append(review_prepro(test['review'][i]))\n",
    "\n",
    "test_data_features = (vectorizer.transform(filtered_test_reviews)).toarray()"
   ]
  },
  {
   "cell_type": "markdown",
   "id": "20eacc0c",
   "metadata": {},
   "source": [
    "To train a classifier with logistic regression use the following code"
   ]
  },
  {
   "cell_type": "code",
   "execution_count": 13,
   "id": "c192bee4",
   "metadata": {},
   "outputs": [
    {
     "name": "stdout",
     "output_type": "stream",
     "text": [
      "          id  sentiment\n",
      "0  \"12081_1\"   0.101423\n",
      "1   \"3951_2\"   0.726068\n",
      "2  \"10492_1\"   0.678182\n",
      "3   \"3350_3\"   0.477912\n",
      "4   \"9495_8\"   0.293705\n",
      "5   \"4656_4\"   0.485859\n",
      "6   \"9983_3\"   0.392802\n",
      "7   \"4439_4\"   0.496138\n",
      "8   \"8516_2\"   0.891603\n",
      "9  \"11232_1\"   0.340738\n"
     ]
    }
   ],
   "source": [
    "# Method: logistic regression from sklearn.linear_model\n",
    "from sklearn.linear_model import LogisticRegression as LR\n",
    "\n",
    "logistic_model = LR()\n",
    "logistic_model.fit(train_data_features, train['sentiment'])\n",
    "p = logistic_model.predict_proba( test_data_features)[:,1] #Probability of sentiment from test data\n",
    "output = pd.DataFrame( data={'id':test['id'], 'sentiment':p})\n",
    "print(output[:10])"
   ]
  },
  {
   "cell_type": "markdown",
   "id": "87ccd4e6",
   "metadata": {},
   "source": [
    "# Evaluate result "
   ]
  },
  {
   "cell_type": "markdown",
   "id": "b7225495",
   "metadata": {},
   "source": [
    "To use Area Under Curve(AUC - TPR vs FPR curve) metric and score of sum of squres between true and redicted values show the performance. An AUC score of 0.5 is the same as a random classifier, the closer to 1 the score is the better."
   ]
  },
  {
   "cell_type": "code",
   "execution_count": 14,
   "id": "a3eee8e6",
   "metadata": {},
   "outputs": [
    {
     "name": "stdout",
     "output_type": "stream",
     "text": [
      "Sum of squares 0.705\n",
      "AUC score: 0.7743503436135539\n"
     ]
    }
   ],
   "source": [
    "from sklearn.metrics import roc_auc_score as AUC\n",
    "score = logistic_model.score(test_data_features,test['sentiment'])\n",
    "auc = AUC(test['sentiment'].values, p)\n",
    "print('Sum of squares',score)\n",
    "print('AUC score:',auc)"
   ]
  },
  {
   "cell_type": "code",
   "execution_count": null,
   "id": "0b692358",
   "metadata": {},
   "outputs": [],
   "source": []
  }
 ],
 "metadata": {
  "kernelspec": {
   "display_name": "Python 3 (ipykernel)",
   "language": "python",
   "name": "python3"
  },
  "language_info": {
   "codemirror_mode": {
    "name": "ipython",
    "version": 3
   },
   "file_extension": ".py",
   "mimetype": "text/x-python",
   "name": "python",
   "nbconvert_exporter": "python",
   "pygments_lexer": "ipython3",
   "version": "3.10.6"
  }
 },
 "nbformat": 4,
 "nbformat_minor": 5
}
